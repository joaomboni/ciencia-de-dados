{
 "cells": [
  {
   "cell_type": "code",
   "execution_count": 1,
   "metadata": {},
   "outputs": [
    {
     "name": "stdout",
     "output_type": "stream",
     "text": [
      "Collecting yfinance\n",
      "  Downloading yfinance-0.1.55.tar.gz (23 kB)\n",
      "Requirement already satisfied, skipping upgrade: pandas>=0.24 in c:\\users\\joão bonifácio\\appdata\\local\\programs\\python\\python39\\lib\\site-packages (from yfinance) (1.1.5)\n",
      "Requirement already satisfied, skipping upgrade: numpy>=1.15 in c:\\users\\joão bonifácio\\appdata\\local\\programs\\python\\python39\\lib\\site-packages (from yfinance) (1.19.4)\n",
      "Requirement already satisfied, skipping upgrade: requests>=2.20 in c:\\users\\joão bonifácio\\appdata\\local\\programs\\python\\python39\\lib\\site-packages (from yfinance) (2.25.1)\n",
      "Collecting multitasking>=0.0.7\n",
      "  Downloading multitasking-0.0.9.tar.gz (8.1 kB)\n",
      "Requirement already satisfied, skipping upgrade: lxml>=4.5.1 in c:\\users\\joão bonifácio\\appdata\\local\\programs\\python\\python39\\lib\\site-packages (from yfinance) (4.6.2)\n",
      "Requirement already satisfied, skipping upgrade: python-dateutil>=2.7.3 in c:\\users\\joão bonifácio\\appdata\\local\\programs\\python\\python39\\lib\\site-packages (from pandas>=0.24->yfinance) (2.8.1)\n",
      "Requirement already satisfied, skipping upgrade: pytz>=2017.2 in c:\\users\\joão bonifácio\\appdata\\local\\programs\\python\\python39\\lib\\site-packages (from pandas>=0.24->yfinance) (2020.4)\n",
      "Requirement already satisfied, skipping upgrade: idna<3,>=2.5 in c:\\users\\joão bonifácio\\appdata\\local\\programs\\python\\python39\\lib\\site-packages (from requests>=2.20->yfinance) (2.10)\n",
      "Requirement already satisfied, skipping upgrade: certifi>=2017.4.17 in c:\\users\\joão bonifácio\\appdata\\local\\programs\\python\\python39\\lib\\site-packages (from requests>=2.20->yfinance) (2020.12.5)\n",
      "Requirement already satisfied, skipping upgrade: urllib3<1.27,>=1.21.1 in c:\\users\\joão bonifácio\\appdata\\local\\programs\\python\\python39\\lib\\site-packages (from requests>=2.20->yfinance) (1.26.2)\n",
      "Requirement already satisfied, skipping upgrade: chardet<5,>=3.0.2 in c:\\users\\joão bonifácio\\appdata\\local\\programs\\python\\python39\\lib\\site-packages (from requests>=2.20->yfinance) (4.0.0)\n",
      "Requirement already satisfied, skipping upgrade: six>=1.5 in c:\\users\\joão bonifácio\\appdata\\local\\programs\\python\\python39\\lib\\site-packages (from python-dateutil>=2.7.3->pandas>=0.24->yfinance) (1.15.0)\n",
      "Using legacy 'setup.py install' for yfinance, since package 'wheel' is not installed.\n",
      "Using legacy 'setup.py install' for multitasking, since package 'wheel' is not installed.\n",
      "Installing collected packages: multitasking, yfinance\n",
      "    Running setup.py install for multitasking: started\n",
      "    Running setup.py install for multitasking: finished with status 'done'\n",
      "    Running setup.py install for yfinance: started\n",
      "    Running setup.py install for yfinance: finished with status 'done'\n",
      "Successfully installed multitasking-0.0.9 yfinance-0.1.55\n"
     ]
    },
    {
     "name": "stderr",
     "output_type": "stream",
     "text": [
      "WARNING: You are using pip version 20.2.3; however, version 20.3.3 is available.\n",
      "You should consider upgrading via the 'c:\\users\\joão bonifácio\\appdata\\local\\programs\\python\\python39\\python.exe -m pip install --upgrade pip' command.\n"
     ]
    }
   ],
   "source": [
    "## Importação de pactotes\n",
    "\n",
    "import numpy as np\n",
    "import pandas as pd\n",
    "import matplotlib.pyplot as plt\n",
    "import pandas_datareader.data as web\n",
    "\n",
    "!pip install yfinance --upgrade --no-cache-dir\n",
    "import yfinance as yf\n",
    "yf.pdr_override()"
   ]
  },
  {
   "cell_type": "code",
   "execution_count": 15,
   "metadata": {},
   "outputs": [
    {
     "name": "stdout",
     "output_type": "stream",
     "text": [
      "[*********************100%***********************]  1 of 1 completed\n",
      "[*********************100%***********************]  1 of 1 completed\n"
     ]
    }
   ],
   "source": [
    "## Chamando os dados do yahoo\n",
    "ibov = web.get_data_yahoo('^bvsp')\n"
   ]
  },
  {
   "cell_type": "code",
   "execution_count": null,
   "metadata": {},
   "outputs": [],
   "source": []
  },
  {
   "cell_type": "code",
   "execution_count": null,
   "metadata": {},
   "outputs": [],
   "source": []
  },
  {
   "cell_type": "code",
   "execution_count": 18,
   "metadata": {},
   "outputs": [
    {
     "data": {
      "text/html": [
       "<div>\n",
       "<style scoped>\n",
       "    .dataframe tbody tr th:only-of-type {\n",
       "        vertical-align: middle;\n",
       "    }\n",
       "\n",
       "    .dataframe tbody tr th {\n",
       "        vertical-align: top;\n",
       "    }\n",
       "\n",
       "    .dataframe thead th {\n",
       "        text-align: right;\n",
       "    }\n",
       "</style>\n",
       "<table border=\"1\" class=\"dataframe\">\n",
       "  <thead>\n",
       "    <tr style=\"text-align: right;\">\n",
       "      <th></th>\n",
       "      <th>Open</th>\n",
       "      <th>High</th>\n",
       "      <th>Low</th>\n",
       "      <th>Close</th>\n",
       "      <th>Adj Close</th>\n",
       "      <th>Volume</th>\n",
       "    </tr>\n",
       "    <tr>\n",
       "      <th>Date</th>\n",
       "      <th></th>\n",
       "      <th></th>\n",
       "      <th></th>\n",
       "      <th></th>\n",
       "      <th></th>\n",
       "      <th></th>\n",
       "    </tr>\n",
       "  </thead>\n",
       "  <tbody>\n",
       "    <tr>\n",
       "      <th>1993-04-27</th>\n",
       "      <td>24.799999</td>\n",
       "      <td>25.400000</td>\n",
       "      <td>24.500000</td>\n",
       "      <td>24.500000</td>\n",
       "      <td>24.500000</td>\n",
       "      <td>0</td>\n",
       "    </tr>\n",
       "    <tr>\n",
       "      <th>1993-04-28</th>\n",
       "      <td>24.500000</td>\n",
       "      <td>24.600000</td>\n",
       "      <td>23.700001</td>\n",
       "      <td>24.299999</td>\n",
       "      <td>24.299999</td>\n",
       "      <td>0</td>\n",
       "    </tr>\n",
       "    <tr>\n",
       "      <th>1993-04-29</th>\n",
       "      <td>24.299999</td>\n",
       "      <td>24.799999</td>\n",
       "      <td>23.700001</td>\n",
       "      <td>23.700001</td>\n",
       "      <td>23.700001</td>\n",
       "      <td>0</td>\n",
       "    </tr>\n",
       "    <tr>\n",
       "      <th>1993-04-30</th>\n",
       "      <td>23.700001</td>\n",
       "      <td>24.200001</td>\n",
       "      <td>23.700001</td>\n",
       "      <td>24.100000</td>\n",
       "      <td>24.100000</td>\n",
       "      <td>0</td>\n",
       "    </tr>\n",
       "    <tr>\n",
       "      <th>1993-05-03</th>\n",
       "      <td>24.100000</td>\n",
       "      <td>24.400000</td>\n",
       "      <td>23.799999</td>\n",
       "      <td>24.100000</td>\n",
       "      <td>24.100000</td>\n",
       "      <td>0</td>\n",
       "    </tr>\n",
       "  </tbody>\n",
       "</table>\n",
       "</div>"
      ],
      "text/plain": [
       "                 Open       High        Low      Close  Adj Close  Volume\n",
       "Date                                                                     \n",
       "1993-04-27  24.799999  25.400000  24.500000  24.500000  24.500000       0\n",
       "1993-04-28  24.500000  24.600000  23.700001  24.299999  24.299999       0\n",
       "1993-04-29  24.299999  24.799999  23.700001  23.700001  23.700001       0\n",
       "1993-04-30  23.700001  24.200001  23.700001  24.100000  24.100000       0\n",
       "1993-05-03  24.100000  24.400000  23.799999  24.100000  24.100000       0"
      ]
     },
     "execution_count": 18,
     "metadata": {},
     "output_type": "execute_result"
    }
   ],
   "source": [
    "## As 5 primeiras linhas no data set\n",
    "ibov.head()"
   ]
  },
  {
   "cell_type": "code",
   "execution_count": 4,
   "metadata": {},
   "outputs": [
    {
     "data": {
      "text/html": [
       "<div>\n",
       "<style scoped>\n",
       "    .dataframe tbody tr th:only-of-type {\n",
       "        vertical-align: middle;\n",
       "    }\n",
       "\n",
       "    .dataframe tbody tr th {\n",
       "        vertical-align: top;\n",
       "    }\n",
       "\n",
       "    .dataframe thead th {\n",
       "        text-align: right;\n",
       "    }\n",
       "</style>\n",
       "<table border=\"1\" class=\"dataframe\">\n",
       "  <thead>\n",
       "    <tr style=\"text-align: right;\">\n",
       "      <th></th>\n",
       "      <th>Open</th>\n",
       "      <th>High</th>\n",
       "      <th>Low</th>\n",
       "      <th>Close</th>\n",
       "      <th>Adj Close</th>\n",
       "      <th>Volume</th>\n",
       "    </tr>\n",
       "    <tr>\n",
       "      <th>Date</th>\n",
       "      <th></th>\n",
       "      <th></th>\n",
       "      <th></th>\n",
       "      <th></th>\n",
       "      <th></th>\n",
       "      <th></th>\n",
       "    </tr>\n",
       "  </thead>\n",
       "  <tbody>\n",
       "    <tr>\n",
       "      <th>2021-01-06</th>\n",
       "      <td>119377.000000</td>\n",
       "      <td>120924.000000</td>\n",
       "      <td>118917.00000</td>\n",
       "      <td>119851.000000</td>\n",
       "      <td>119851.000000</td>\n",
       "      <td>11638200</td>\n",
       "    </tr>\n",
       "    <tr>\n",
       "      <th>2021-01-07</th>\n",
       "      <td>119103.000000</td>\n",
       "      <td>121983.000000</td>\n",
       "      <td>119101.00000</td>\n",
       "      <td>121956.000000</td>\n",
       "      <td>121956.000000</td>\n",
       "      <td>11774800</td>\n",
       "    </tr>\n",
       "    <tr>\n",
       "      <th>2021-01-08</th>\n",
       "      <td>122387.000000</td>\n",
       "      <td>125324.000000</td>\n",
       "      <td>122386.00000</td>\n",
       "      <td>125077.000000</td>\n",
       "      <td>125077.000000</td>\n",
       "      <td>11085800</td>\n",
       "    </tr>\n",
       "    <tr>\n",
       "      <th>2021-01-11</th>\n",
       "      <td>125075.000000</td>\n",
       "      <td>125075.000000</td>\n",
       "      <td>122506.00000</td>\n",
       "      <td>122807.000000</td>\n",
       "      <td>122807.000000</td>\n",
       "      <td>9537600</td>\n",
       "    </tr>\n",
       "    <tr>\n",
       "      <th>2021-01-12</th>\n",
       "      <td>123255.132812</td>\n",
       "      <td>124382.023438</td>\n",
       "      <td>123227.46875</td>\n",
       "      <td>124301.953125</td>\n",
       "      <td>124301.953125</td>\n",
       "      <td>0</td>\n",
       "    </tr>\n",
       "  </tbody>\n",
       "</table>\n",
       "</div>"
      ],
      "text/plain": [
       "                     Open           High           Low          Close  \\\n",
       "Date                                                                    \n",
       "2021-01-06  119377.000000  120924.000000  118917.00000  119851.000000   \n",
       "2021-01-07  119103.000000  121983.000000  119101.00000  121956.000000   \n",
       "2021-01-08  122387.000000  125324.000000  122386.00000  125077.000000   \n",
       "2021-01-11  125075.000000  125075.000000  122506.00000  122807.000000   \n",
       "2021-01-12  123255.132812  124382.023438  123227.46875  124301.953125   \n",
       "\n",
       "                Adj Close    Volume  \n",
       "Date                                 \n",
       "2021-01-06  119851.000000  11638200  \n",
       "2021-01-07  121956.000000  11774800  \n",
       "2021-01-08  125077.000000  11085800  \n",
       "2021-01-11  122807.000000   9537600  \n",
       "2021-01-12  124301.953125         0  "
      ]
     },
     "execution_count": 4,
     "metadata": {},
     "output_type": "execute_result"
    }
   ],
   "source": [
    "# As 5 ultimas linhas do data set \n",
    "ibov.tail()"
   ]
  },
  {
   "cell_type": "code",
   "execution_count": 12,
   "metadata": {},
   "outputs": [
    {
     "data": {
      "text/html": [
       "<div>\n",
       "<style scoped>\n",
       "    .dataframe tbody tr th:only-of-type {\n",
       "        vertical-align: middle;\n",
       "    }\n",
       "\n",
       "    .dataframe tbody tr th {\n",
       "        vertical-align: top;\n",
       "    }\n",
       "\n",
       "    .dataframe thead th {\n",
       "        text-align: right;\n",
       "    }\n",
       "</style>\n",
       "<table border=\"1\" class=\"dataframe\">\n",
       "  <thead>\n",
       "    <tr style=\"text-align: right;\">\n",
       "      <th></th>\n",
       "      <th>abertura</th>\n",
       "      <th>maxima</th>\n",
       "      <th>baixa</th>\n",
       "      <th>fechamento</th>\n",
       "      <th>fecha_ajustado</th>\n",
       "      <th>volume</th>\n",
       "    </tr>\n",
       "    <tr>\n",
       "      <th>Date</th>\n",
       "      <th></th>\n",
       "      <th></th>\n",
       "      <th></th>\n",
       "      <th></th>\n",
       "      <th></th>\n",
       "      <th></th>\n",
       "    </tr>\n",
       "  </thead>\n",
       "  <tbody>\n",
       "    <tr>\n",
       "      <th>1993-04-27</th>\n",
       "      <td>24.799999</td>\n",
       "      <td>25.400000</td>\n",
       "      <td>24.500000</td>\n",
       "      <td>24.500000</td>\n",
       "      <td>24.500000</td>\n",
       "      <td>0</td>\n",
       "    </tr>\n",
       "    <tr>\n",
       "      <th>1993-04-28</th>\n",
       "      <td>24.500000</td>\n",
       "      <td>24.600000</td>\n",
       "      <td>23.700001</td>\n",
       "      <td>24.299999</td>\n",
       "      <td>24.299999</td>\n",
       "      <td>0</td>\n",
       "    </tr>\n",
       "    <tr>\n",
       "      <th>1993-04-29</th>\n",
       "      <td>24.299999</td>\n",
       "      <td>24.799999</td>\n",
       "      <td>23.700001</td>\n",
       "      <td>23.700001</td>\n",
       "      <td>23.700001</td>\n",
       "      <td>0</td>\n",
       "    </tr>\n",
       "    <tr>\n",
       "      <th>1993-04-30</th>\n",
       "      <td>23.700001</td>\n",
       "      <td>24.200001</td>\n",
       "      <td>23.700001</td>\n",
       "      <td>24.100000</td>\n",
       "      <td>24.100000</td>\n",
       "      <td>0</td>\n",
       "    </tr>\n",
       "    <tr>\n",
       "      <th>1993-05-03</th>\n",
       "      <td>24.100000</td>\n",
       "      <td>24.400000</td>\n",
       "      <td>23.799999</td>\n",
       "      <td>24.100000</td>\n",
       "      <td>24.100000</td>\n",
       "      <td>0</td>\n",
       "    </tr>\n",
       "  </tbody>\n",
       "</table>\n",
       "</div>"
      ],
      "text/plain": [
       "             abertura     maxima      baixa  fechamento  fecha_ajustado  \\\n",
       "Date                                                                      \n",
       "1993-04-27  24.799999  25.400000  24.500000   24.500000       24.500000   \n",
       "1993-04-28  24.500000  24.600000  23.700001   24.299999       24.299999   \n",
       "1993-04-29  24.299999  24.799999  23.700001   23.700001       23.700001   \n",
       "1993-04-30  23.700001  24.200001  23.700001   24.100000       24.100000   \n",
       "1993-05-03  24.100000  24.400000  23.799999   24.100000       24.100000   \n",
       "\n",
       "            volume  \n",
       "Date                \n",
       "1993-04-27       0  \n",
       "1993-04-28       0  \n",
       "1993-04-29       0  \n",
       "1993-04-30       0  \n",
       "1993-05-03       0  "
      ]
     },
     "execution_count": 12,
     "metadata": {},
     "output_type": "execute_result"
    }
   ],
   "source": [
    "## Trocar os nomes das colunas\n",
    "ibov.columns = ['abertura','maxima','baixa','fechamento','fecha_ajustado','volume']\n",
    "ibov.head()"
   ]
  },
  {
   "cell_type": "code",
   "execution_count": 14,
   "metadata": {},
   "outputs": [
    {
     "data": {
      "text/plain": [
       "<AxesSubplot:xlabel='Date'>"
      ]
     },
     "execution_count": 14,
     "metadata": {},
     "output_type": "execute_result"
    },
    {
     "data": {
      "image/png": "[encoded data removed]",
      "text/plain": [
       "<Figure size 1584x576 with 1 Axes>"
      ]
     },
     "metadata": {
      "needs_background": "light"
     },
     "output_type": "display_data"
    }
   ],
   "source": [
    "## grafico do fechamento \n",
    "ibov['fechamento'].plot(figsize=(22,8))"
   ]
  },
  {
   "cell_type": "code",
   "execution_count": 19,
   "metadata": {},
   "outputs": [
    {
     "name": "stdout",
     "output_type": "stream",
     "text": [
      "[*********************100%***********************]  1 of 1 completed\n"
     ]
    }
   ],
   "source": [
    "b3 = web.get_data_yahoo('b3sa3.sa')"
   ]
  },
  {
   "cell_type": "code",
   "execution_count": 20,
   "metadata": {},
   "outputs": [
    {
     "data": {
      "text/html": [
       "<div>\n",
       "<style scoped>\n",
       "    .dataframe tbody tr th:only-of-type {\n",
       "        vertical-align: middle;\n",
       "    }\n",
       "\n",
       "    .dataframe tbody tr th {\n",
       "        vertical-align: top;\n",
       "    }\n",
       "\n",
       "    .dataframe thead th {\n",
       "        text-align: right;\n",
       "    }\n",
       "</style>\n",
       "<table border=\"1\" class=\"dataframe\">\n",
       "  <thead>\n",
       "    <tr style=\"text-align: right;\">\n",
       "      <th></th>\n",
       "      <th>Open</th>\n",
       "      <th>High</th>\n",
       "      <th>Low</th>\n",
       "      <th>Close</th>\n",
       "      <th>Adj Close</th>\n",
       "      <th>Volume</th>\n",
       "    </tr>\n",
       "    <tr>\n",
       "      <th>Date</th>\n",
       "      <th></th>\n",
       "      <th></th>\n",
       "      <th></th>\n",
       "      <th></th>\n",
       "      <th></th>\n",
       "      <th></th>\n",
       "    </tr>\n",
       "  </thead>\n",
       "  <tbody>\n",
       "    <tr>\n",
       "      <th>2011-05-09</th>\n",
       "      <td>11.90</td>\n",
       "      <td>12.10</td>\n",
       "      <td>11.80</td>\n",
       "      <td>12.07</td>\n",
       "      <td>8.315425</td>\n",
       "      <td>5065.0</td>\n",
       "    </tr>\n",
       "    <tr>\n",
       "      <th>2011-05-11</th>\n",
       "      <td>12.07</td>\n",
       "      <td>12.10</td>\n",
       "      <td>11.75</td>\n",
       "      <td>11.80</td>\n",
       "      <td>8.129417</td>\n",
       "      <td>14752500.0</td>\n",
       "    </tr>\n",
       "    <tr>\n",
       "      <th>2011-05-12</th>\n",
       "      <td>11.70</td>\n",
       "      <td>11.86</td>\n",
       "      <td>11.61</td>\n",
       "      <td>11.70</td>\n",
       "      <td>8.060520</td>\n",
       "      <td>7371700.0</td>\n",
       "    </tr>\n",
       "    <tr>\n",
       "      <th>2011-05-13</th>\n",
       "      <td>11.63</td>\n",
       "      <td>11.65</td>\n",
       "      <td>11.33</td>\n",
       "      <td>11.54</td>\n",
       "      <td>7.950293</td>\n",
       "      <td>12827000.0</td>\n",
       "    </tr>\n",
       "    <tr>\n",
       "      <th>2011-05-17</th>\n",
       "      <td>11.51</td>\n",
       "      <td>11.61</td>\n",
       "      <td>11.34</td>\n",
       "      <td>11.37</td>\n",
       "      <td>7.833172</td>\n",
       "      <td>12759000.0</td>\n",
       "    </tr>\n",
       "  </tbody>\n",
       "</table>\n",
       "</div>"
      ],
      "text/plain": [
       "             Open   High    Low  Close  Adj Close      Volume\n",
       "Date                                                         \n",
       "2011-05-09  11.90  12.10  11.80  12.07   8.315425      5065.0\n",
       "2011-05-11  12.07  12.10  11.75  11.80   8.129417  14752500.0\n",
       "2011-05-12  11.70  11.86  11.61  11.70   8.060520   7371700.0\n",
       "2011-05-13  11.63  11.65  11.33  11.54   7.950293  12827000.0\n",
       "2011-05-17  11.51  11.61  11.34  11.37   7.833172  12759000.0"
      ]
     },
     "execution_count": 20,
     "metadata": {},
     "output_type": "execute_result"
    }
   ],
   "source": [
    "b3.head()"
   ]
  },
  {
   "cell_type": "code",
   "execution_count": 24,
   "metadata": {},
   "outputs": [
    {
     "data": {
      "text/plain": [
       "Index(['abertura', 'maxima', 'minima', 'fechamento', 'fech_ajustado',\n",
       "       'volume'],\n",
       "      dtype='object')"
      ]
     },
     "execution_count": 24,
     "metadata": {},
     "output_type": "execute_result"
    }
   ],
   "source": [
    "b3.columns = ['abertura','maxima','minima','fechamento','fech_ajustado','volume']\n",
    "b3.columns"
   ]
  },
  {
   "cell_type": "code",
   "execution_count": 25,
   "metadata": {},
   "outputs": [
    {
     "data": {
      "text/html": [
       "<div>\n",
       "<style scoped>\n",
       "    .dataframe tbody tr th:only-of-type {\n",
       "        vertical-align: middle;\n",
       "    }\n",
       "\n",
       "    .dataframe tbody tr th {\n",
       "        vertical-align: top;\n",
       "    }\n",
       "\n",
       "    .dataframe thead th {\n",
       "        text-align: right;\n",
       "    }\n",
       "</style>\n",
       "<table border=\"1\" class=\"dataframe\">\n",
       "  <thead>\n",
       "    <tr style=\"text-align: right;\">\n",
       "      <th></th>\n",
       "      <th>abertura</th>\n",
       "      <th>maxima</th>\n",
       "      <th>minima</th>\n",
       "      <th>fechamento</th>\n",
       "      <th>fech_ajustado</th>\n",
       "      <th>volume</th>\n",
       "    </tr>\n",
       "    <tr>\n",
       "      <th>Date</th>\n",
       "      <th></th>\n",
       "      <th></th>\n",
       "      <th></th>\n",
       "      <th></th>\n",
       "      <th></th>\n",
       "      <th></th>\n",
       "    </tr>\n",
       "  </thead>\n",
       "  <tbody>\n",
       "    <tr>\n",
       "      <th>2011-05-09</th>\n",
       "      <td>11.90</td>\n",
       "      <td>12.10</td>\n",
       "      <td>11.80</td>\n",
       "      <td>12.07</td>\n",
       "      <td>8.315425</td>\n",
       "      <td>5065.0</td>\n",
       "    </tr>\n",
       "    <tr>\n",
       "      <th>2011-05-11</th>\n",
       "      <td>12.07</td>\n",
       "      <td>12.10</td>\n",
       "      <td>11.75</td>\n",
       "      <td>11.80</td>\n",
       "      <td>8.129417</td>\n",
       "      <td>14752500.0</td>\n",
       "    </tr>\n",
       "    <tr>\n",
       "      <th>2011-05-12</th>\n",
       "      <td>11.70</td>\n",
       "      <td>11.86</td>\n",
       "      <td>11.61</td>\n",
       "      <td>11.70</td>\n",
       "      <td>8.060520</td>\n",
       "      <td>7371700.0</td>\n",
       "    </tr>\n",
       "    <tr>\n",
       "      <th>2011-05-13</th>\n",
       "      <td>11.63</td>\n",
       "      <td>11.65</td>\n",
       "      <td>11.33</td>\n",
       "      <td>11.54</td>\n",
       "      <td>7.950293</td>\n",
       "      <td>12827000.0</td>\n",
       "    </tr>\n",
       "    <tr>\n",
       "      <th>2011-05-17</th>\n",
       "      <td>11.51</td>\n",
       "      <td>11.61</td>\n",
       "      <td>11.34</td>\n",
       "      <td>11.37</td>\n",
       "      <td>7.833172</td>\n",
       "      <td>12759000.0</td>\n",
       "    </tr>\n",
       "  </tbody>\n",
       "</table>\n",
       "</div>"
      ],
      "text/plain": [
       "            abertura  maxima  minima  fechamento  fech_ajustado      volume\n",
       "Date                                                                       \n",
       "2011-05-09     11.90   12.10   11.80       12.07       8.315425      5065.0\n",
       "2011-05-11     12.07   12.10   11.75       11.80       8.129417  14752500.0\n",
       "2011-05-12     11.70   11.86   11.61       11.70       8.060520   7371700.0\n",
       "2011-05-13     11.63   11.65   11.33       11.54       7.950293  12827000.0\n",
       "2011-05-17     11.51   11.61   11.34       11.37       7.833172  12759000.0"
      ]
     },
     "execution_count": 25,
     "metadata": {},
     "output_type": "execute_result"
    }
   ],
   "source": [
    "b3.head()"
   ]
  },
  {
   "cell_type": "code",
   "execution_count": 27,
   "metadata": {},
   "outputs": [
    {
     "data": {
      "text/plain": [
       "<AxesSubplot:xlabel='Date'>"
      ]
     },
     "execution_count": 27,
     "metadata": {},
     "output_type": "execute_result"
    },
    {
     "data": {
      "image/png": "[encoded data removed]",
      "text/plain": [
       "<Figure size 1584x576 with 1 Axes>"
      ]
     },
     "metadata": {
      "needs_background": "light"
     },
     "output_type": "display_data"
    }
   ],
   "source": [
    "b3['fechamento'].plot(figsize=(22,8))"
   ]
  }
 ],
 "metadata": {
  "kernelspec": {
   "display_name": "Python 3",
   "language": "python",
   "name": "python3"
  },
  "language_info": {
   "codemirror_mode": {
    "name": "ipython",
    "version": 3
   },
   "file_extension": ".py",
   "mimetype": "text/x-python",
   "name": "python",
   "nbconvert_exporter": "python",
   "pygments_lexer": "ipython3",
   "version": "3.9.0"
  }
 },
 "nbformat": 4,
 "nbformat_minor": 4
}
