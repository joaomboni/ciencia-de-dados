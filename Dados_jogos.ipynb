{
 "cells": [
  {
   "cell_type": "code",
   "execution_count": 1,
   "id": "weighted-tracy",
   "metadata": {},
   "outputs": [],
   "source": [
    "import pandas as pd\n",
    "import numpy as np\n",
    "import matplotlib.pyplot as plt\n",
    "import seaborn as sns"
   ]
  },
  {
   "cell_type": "code",
   "execution_count": 5,
   "id": "considered-diesel",
   "metadata": {},
   "outputs": [],
   "source": [
    "df = pd.read_csv('/Users/joaob/OneDrive/Documentos/vgsales.csv')"
   ]
  },
  {
   "cell_type": "code",
   "execution_count": 6,
   "id": "polar-import",
   "metadata": {},
   "outputs": [
    {
     "data": {
      "text/html": [
       "<div>\n",
       "<style scoped>\n",
       "    .dataframe tbody tr th:only-of-type {\n",
       "        vertical-align: middle;\n",
       "    }\n",
       "\n",
       "    .dataframe tbody tr th {\n",
       "        vertical-align: top;\n",
       "    }\n",
       "\n",
       "    .dataframe thead th {\n",
       "        text-align: right;\n",
       "    }\n",
       "</style>\n",
       "<table border=\"1\" class=\"dataframe\">\n",
       "  <thead>\n",
       "    <tr style=\"text-align: right;\">\n",
       "      <th></th>\n",
       "      <th>Rank</th>\n",
       "      <th>Name</th>\n",
       "      <th>Platform</th>\n",
       "      <th>Year</th>\n",
       "      <th>Genre</th>\n",
       "      <th>Publisher</th>\n",
       "      <th>NA_Sales</th>\n",
       "      <th>EU_Sales</th>\n",
       "      <th>JP_Sales</th>\n",
       "      <th>Other_Sales</th>\n",
       "      <th>Global_Sales</th>\n",
       "    </tr>\n",
       "  </thead>\n",
       "  <tbody>\n",
       "    <tr>\n",
       "      <th>0</th>\n",
       "      <td>1</td>\n",
       "      <td>Wii Sports</td>\n",
       "      <td>Wii</td>\n",
       "      <td>2006.0</td>\n",
       "      <td>Sports</td>\n",
       "      <td>Nintendo</td>\n",
       "      <td>41.49</td>\n",
       "      <td>29.02</td>\n",
       "      <td>3.77</td>\n",
       "      <td>8.46</td>\n",
       "      <td>82.74</td>\n",
       "    </tr>\n",
       "    <tr>\n",
       "      <th>1</th>\n",
       "      <td>2</td>\n",
       "      <td>Super Mario Bros.</td>\n",
       "      <td>NES</td>\n",
       "      <td>1985.0</td>\n",
       "      <td>Platform</td>\n",
       "      <td>Nintendo</td>\n",
       "      <td>29.08</td>\n",
       "      <td>3.58</td>\n",
       "      <td>6.81</td>\n",
       "      <td>0.77</td>\n",
       "      <td>40.24</td>\n",
       "    </tr>\n",
       "    <tr>\n",
       "      <th>2</th>\n",
       "      <td>3</td>\n",
       "      <td>Mario Kart Wii</td>\n",
       "      <td>Wii</td>\n",
       "      <td>2008.0</td>\n",
       "      <td>Racing</td>\n",
       "      <td>Nintendo</td>\n",
       "      <td>15.85</td>\n",
       "      <td>12.88</td>\n",
       "      <td>3.79</td>\n",
       "      <td>3.31</td>\n",
       "      <td>35.82</td>\n",
       "    </tr>\n",
       "    <tr>\n",
       "      <th>3</th>\n",
       "      <td>4</td>\n",
       "      <td>Wii Sports Resort</td>\n",
       "      <td>Wii</td>\n",
       "      <td>2009.0</td>\n",
       "      <td>Sports</td>\n",
       "      <td>Nintendo</td>\n",
       "      <td>15.75</td>\n",
       "      <td>11.01</td>\n",
       "      <td>3.28</td>\n",
       "      <td>2.96</td>\n",
       "      <td>33.00</td>\n",
       "    </tr>\n",
       "    <tr>\n",
       "      <th>4</th>\n",
       "      <td>5</td>\n",
       "      <td>Pokemon Red/Pokemon Blue</td>\n",
       "      <td>GB</td>\n",
       "      <td>1996.0</td>\n",
       "      <td>Role-Playing</td>\n",
       "      <td>Nintendo</td>\n",
       "      <td>11.27</td>\n",
       "      <td>8.89</td>\n",
       "      <td>10.22</td>\n",
       "      <td>1.00</td>\n",
       "      <td>31.37</td>\n",
       "    </tr>\n",
       "  </tbody>\n",
       "</table>\n",
       "</div>"
      ],
      "text/plain": [
       "   Rank                      Name Platform    Year         Genre Publisher  \\\n",
       "0     1                Wii Sports      Wii  2006.0        Sports  Nintendo   \n",
       "1     2         Super Mario Bros.      NES  1985.0      Platform  Nintendo   \n",
       "2     3            Mario Kart Wii      Wii  2008.0        Racing  Nintendo   \n",
       "3     4         Wii Sports Resort      Wii  2009.0        Sports  Nintendo   \n",
       "4     5  Pokemon Red/Pokemon Blue       GB  1996.0  Role-Playing  Nintendo   \n",
       "\n",
       "   NA_Sales  EU_Sales  JP_Sales  Other_Sales  Global_Sales  \n",
       "0     41.49     29.02      3.77         8.46         82.74  \n",
       "1     29.08      3.58      6.81         0.77         40.24  \n",
       "2     15.85     12.88      3.79         3.31         35.82  \n",
       "3     15.75     11.01      3.28         2.96         33.00  \n",
       "4     11.27      8.89     10.22         1.00         31.37  "
      ]
     },
     "execution_count": 6,
     "metadata": {},
     "output_type": "execute_result"
    }
   ],
   "source": [
    "df.head()"
   ]
  },
  {
   "cell_type": "code",
   "execution_count": 8,
   "id": "saving-tolerance",
   "metadata": {},
   "outputs": [
    {
     "data": {
      "text/plain": [
       "0        82.74\n",
       "1        40.24\n",
       "2        35.82\n",
       "3        33.00\n",
       "4        31.37\n",
       "         ...  \n",
       "16593     0.01\n",
       "16594     0.01\n",
       "16595     0.01\n",
       "16596     0.01\n",
       "16597     0.01\n",
       "Name: Global_Sales, Length: 16598, dtype: float64"
      ]
     },
     "execution_count": 8,
     "metadata": {},
     "output_type": "execute_result"
    }
   ],
   "source": [
    "df['Global_Sales']"
   ]
  },
  {
   "cell_type": "code",
   "execution_count": 11,
   "id": "reported-quantity",
   "metadata": {},
   "outputs": [],
   "source": [
    "## CRIAR UM NOME DATAFRAME COM OS DADOS DE PUBLISHER E GLOBAL_SALES\n",
    "\n",
    "df2 = pd.DataFrame({'Publisher': df['Publisher'], 'Sales': df['Global_Sales']})"
   ]
  },
  {
   "cell_type": "code",
   "execution_count": 13,
   "id": "sorted-antibody",
   "metadata": {},
   "outputs": [
    {
     "data": {
      "text/plain": [
       "Sales    82.74\n",
       "dtype: float64"
      ]
     },
     "execution_count": 13,
     "metadata": {},
     "output_type": "execute_result"
    }
   ],
   "source": [
    "# VALOR MAXIMO DE VENDAS \n",
    "\n",
    "df2.max()"
   ]
  },
  {
   "cell_type": "code",
   "execution_count": 14,
   "id": "technical-recording",
   "metadata": {},
   "outputs": [
    {
     "data": {
      "text/plain": [
       "Sales    0.537441\n",
       "dtype: float64"
      ]
     },
     "execution_count": 14,
     "metadata": {},
     "output_type": "execute_result"
    }
   ],
   "source": [
    "# VALOR MEDIO VENDIDO\n",
    "\n",
    "df2.mean()"
   ]
  },
  {
   "cell_type": "code",
   "execution_count": 24,
   "id": "surface-captain",
   "metadata": {},
   "outputs": [],
   "source": [
    "df = pd.read_csv('/Users/joaob/OneDrive/Documentos/vgsales.csv')\n",
    "\n",
    "obj = ('Nintendo', 'ctivision', 'Capcom', 'Ubisoft', 'Microsoft Game Studios')"
   ]
  },
  {
   "cell_type": "code",
   "execution_count": 29,
   "id": "difficult-glass",
   "metadata": {},
   "outputs": [],
   "source": [
    "valores = [len(df.loc[df['Publisher'] == obj[0]]),\n",
    "           len(df.loc[df['Publisher'] == obj[1]]),\n",
    "           len(df.loc[df['Publisher'] == obj[2]]),\n",
    "           len(df.loc[df['Publisher'] == obj[3]]),\n",
    "           len(df.loc[df['Publisher'] == obj[4]])]"
   ]
  },
  {
   "cell_type": "code",
   "execution_count": 36,
   "id": "unlikely-venture",
   "metadata": {},
   "outputs": [
    {
     "data": {
      "image/png": "[encoded data removed]",
      "text/plain": [
       "<Figure size 432x288 with 1 Axes>"
      ]
     },
     "metadata": {},
     "output_type": "display_data"
    }
   ],
   "source": [
    "colors=['blue', 'red', 'yellow', 'green', 'pink']\n",
    "plt.pie(valores, labels=obj, colors=colors, autopct='%1.f%%', shadow=True, startangle=0)\n",
    "plt.show()"
   ]
  },
  {
   "cell_type": "code",
   "execution_count": 34,
   "id": "recent-dominican",
   "metadata": {},
   "outputs": [
    {
     "data": {
      "text/plain": [
       "Text(0.5, 1.0, 'Tabela de jogos')"
      ]
     },
     "execution_count": 34,
     "metadata": {},
     "output_type": "execute_result"
    },
    {
     "data": {
      "image/png": "[encoded data removed]",
      "text/plain": [
       "<Figure size 432x288 with 1 Axes>"
      ]
     },
     "metadata": {
      "needs_background": "light"
     },
     "output_type": "display_data"
    }
   ],
   "source": [
    "sns.set\n",
    "x = np.arange(len(obj))\n",
    "y = valores \n",
    "\n",
    "plt.bar(x, y, align = 'center')\n",
    "plt.xticks(x, obj)\n",
    "plt.ylabel('Porcentagem de uso')\n",
    "plt.title('Tabela de jogos')"
   ]
  },
  {
   "cell_type": "code",
   "execution_count": 47,
   "id": "suitable-endorsement",
   "metadata": {},
   "outputs": [],
   "source": [
    "df3 = pd.DataFrame({'EU_Sales': df['EU_Sales'], 'JP_Sales': df['JP_Sales']})\n",
    "df4 = pd.DataFrame({'NA_Sales': df['NA_Sales'], 'Global_Sales': df['Global_Sales']})"
   ]
  },
  {
   "cell_type": "code",
   "execution_count": 41,
   "id": "developed-holly",
   "metadata": {},
   "outputs": [
    {
     "data": {
      "text/plain": [
       "EU_Sales    29.02\n",
       "JP_Sales    10.22\n",
       "dtype: float64"
      ]
     },
     "execution_count": 41,
     "metadata": {},
     "output_type": "execute_result"
    }
   ],
   "source": [
    "df3.max()"
   ]
  },
  {
   "cell_type": "code",
   "execution_count": 42,
   "id": "olympic-flush",
   "metadata": {},
   "outputs": [
    {
     "data": {
      "text/html": [
       "<div>\n",
       "<style scoped>\n",
       "    .dataframe tbody tr th:only-of-type {\n",
       "        vertical-align: middle;\n",
       "    }\n",
       "\n",
       "    .dataframe tbody tr th {\n",
       "        vertical-align: top;\n",
       "    }\n",
       "\n",
       "    .dataframe thead th {\n",
       "        text-align: right;\n",
       "    }\n",
       "</style>\n",
       "<table border=\"1\" class=\"dataframe\">\n",
       "  <thead>\n",
       "    <tr style=\"text-align: right;\">\n",
       "      <th></th>\n",
       "      <th>EU_Sales</th>\n",
       "      <th>JP_Sales</th>\n",
       "    </tr>\n",
       "  </thead>\n",
       "  <tbody>\n",
       "    <tr>\n",
       "      <th>EU_Sales</th>\n",
       "      <td>1.000000</td>\n",
       "      <td>0.435584</td>\n",
       "    </tr>\n",
       "    <tr>\n",
       "      <th>JP_Sales</th>\n",
       "      <td>0.435584</td>\n",
       "      <td>1.000000</td>\n",
       "    </tr>\n",
       "  </tbody>\n",
       "</table>\n",
       "</div>"
      ],
      "text/plain": [
       "          EU_Sales  JP_Sales\n",
       "EU_Sales  1.000000  0.435584\n",
       "JP_Sales  0.435584  1.000000"
      ]
     },
     "execution_count": 42,
     "metadata": {},
     "output_type": "execute_result"
    }
   ],
   "source": [
    "## CORRELAÇÃO ENTRE VENDAS NO UNIÃO EUROPEIA E VENDAS NO JAPÃO\n",
    "df3.corr()"
   ]
  },
  {
   "cell_type": "code",
   "execution_count": 44,
   "id": "aboriginal-amateur",
   "metadata": {},
   "outputs": [
    {
     "data": {
      "text/plain": [
       "<AxesSubplot:>"
      ]
     },
     "execution_count": 44,
     "metadata": {},
     "output_type": "execute_result"
    },
    {
     "data": {
      "image/png": "[encoded data removed]",
      "text/plain": [
       "<Figure size 432x288 with 2 Axes>"
      ]
     },
     "metadata": {
      "needs_background": "light"
     },
     "output_type": "display_data"
    }
   ],
   "source": [
    "sns.heatmap(df3.corr(), annot = True)"
   ]
  },
  {
   "cell_type": "code",
   "execution_count": 49,
   "id": "southern-hungary",
   "metadata": {},
   "outputs": [
    {
     "data": {
      "text/plain": [
       "<AxesSubplot:>"
      ]
     },
     "execution_count": 49,
     "metadata": {},
     "output_type": "execute_result"
    },
    {
     "data": {
      "image/png": "[encoded data removed]",
      "text/plain": [
       "<Figure size 432x288 with 2 Axes>"
      ]
     },
     "metadata": {
      "needs_background": "light"
     },
     "output_type": "display_data"
    }
   ],
   "source": [
    "#CORRELAÇÃO ENTRE VENDAS NNA AMERICA DO NORTE E VENDAS MUNDIAL \n",
    "df4.corr()\n",
    "sns.heatmap(df4.corr(), annot = True)"
   ]
  },
  {
   "cell_type": "code",
   "execution_count": null,
   "id": "stable-straight",
   "metadata": {},
   "outputs": [],
   "source": []
  }
 ],
 "metadata": {
  "kernelspec": {
   "display_name": "Python 3",
   "language": "python",
   "name": "python3"
  },
  "language_info": {
   "codemirror_mode": {
    "name": "ipython",
    "version": 3
   },
   "file_extension": ".py",
   "mimetype": "text/x-python",
   "name": "python",
   "nbconvert_exporter": "python",
   "pygments_lexer": "ipython3",
   "version": "3.9.1"
  }
 },
 "nbformat": 4,
 "nbformat_minor": 5
}
