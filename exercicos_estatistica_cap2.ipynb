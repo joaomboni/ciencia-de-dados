{
 "cells": [
  {
   "cell_type": "code",
   "execution_count": 1,
   "id": "premier-supplier",
   "metadata": {},
   "outputs": [],
   "source": [
    "import pandas as pd\n",
    "import seaborn as sns\n",
    "import matplotlib.pyplot as plt\n",
    "import numpy as np\n",
    "from scipy import stats"
   ]
  },
  {
   "cell_type": "markdown",
   "id": "mental-indicator",
   "metadata": {},
   "source": [
    "1. Construa a distribuição de frequência e o histograma do seguinte conjunto de dados (tensão do rompimento de fibra de lã medido em quilos)."
   ]
  },
  {
   "cell_type": "code",
   "execution_count": null,
   "id": "continued-termination",
   "metadata": {},
   "outputs": [],
   "source": [
    "dados = ([66, 92, 99, 94, 117, 137, 85, 105, 132, 91, 95,\n",
    "    103, 111, 84, 89, 96, 107, 96, 102, 100, 85, 97,\n",
    "    100, 101, 89, 100, 98, 98, 79, 105, 97, 97, 91,\n",
    "    104, 104, 97, 97, 137, 114, 101, 138, 80, 111, 102,\n",
    "    103, 104, 98, 98, 111, 104, 99, 94, 86, 106, 102,\n",
    "    100, 78, 84, 91, 98, 96, 92, 95, 99, 93, 86, \n",
    "    111, 92, 101, 104, 104, 102, 102, 132, 97, 87, 110,\n",
    "    94, 98, 99, 95, 99, 102, 62, 96, 102, 109, 92,\n",
    "    88, 101, 88, 100, 122, 104, 91, 96, 115, 107, 103,\n",
    "    98])"
   ]
  },
  {
   "cell_type": "markdown",
   "id": "first-hunter",
   "metadata": {},
   "source": [
    "1.1 Calcule a média."
   ]
  },
  {
   "cell_type": "code",
   "execution_count": null,
   "id": "lesbian-second",
   "metadata": {},
   "outputs": [],
   "source": [
    "media = np.mean(dados)\n",
    "print(float(media))"
   ]
  },
  {
   "cell_type": "markdown",
   "id": "periodic-pharmacology",
   "metadata": {},
   "source": [
    "1.2 Determine a mediana."
   ]
  },
  {
   "cell_type": "code",
   "execution_count": null,
   "id": "fourth-clark",
   "metadata": {},
   "outputs": [],
   "source": [
    "mediana = np.median(dados)\n",
    "print(mediana)"
   ]
  },
  {
   "cell_type": "markdown",
   "id": "stunning-moscow",
   "metadata": {},
   "source": [
    "1.3 Calcule o desvio-padrão."
   ]
  },
  {
   "cell_type": "code",
   "execution_count": null,
   "id": "guilty-stuart",
   "metadata": {},
   "outputs": [],
   "source": [
    "dv = np.std(dados)\n",
    "print('%.2f'%dv)"
   ]
  },
  {
   "cell_type": "markdown",
   "id": "reliable-involvement",
   "metadata": {},
   "source": [
    "1.4 Qual é o intervalo modal?"
   ]
  },
  {
   "cell_type": "code",
   "execution_count": null,
   "id": "fancy-surprise",
   "metadata": {},
   "outputs": [],
   "source": [
    "stats.mode(dados)"
   ]
  },
  {
   "cell_type": "markdown",
   "id": "cordless-communications",
   "metadata": {},
   "source": [
    "1.5 Calcule a amplitude"
   ]
  },
  {
   "cell_type": "code",
   "execution_count": null,
   "id": "extreme-soccer",
   "metadata": {},
   "outputs": [],
   "source": [
    "maximo = float(np.max(dados))\n",
    "minimo = float(np.min(dados))\n",
    "amplitude = float(maximo - minimo)\n",
    "print('%.2f'%amplitude)"
   ]
  },
  {
   "cell_type": "markdown",
   "id": "cutting-stuff",
   "metadata": {},
   "source": [
    "1.6 Calcule o devio absoluto médio"
   ]
  },
  {
   "cell_type": "code",
   "execution_count": null,
   "id": "closed-grave",
   "metadata": {},
   "outputs": [],
   "source": [
    "dev1 = media - dados\n",
    "desvios = abs(dev1)\n",
    "d = np.mean(desvios)\n",
    "print('%.2f'%d)\n"
   ]
  },
  {
   "cell_type": "markdown",
   "id": "environmental-header",
   "metadata": {},
   "source": [
    "1.7 Calcule a amplitude interquartilica."
   ]
  },
  {
   "cell_type": "code",
   "execution_count": null,
   "id": "compliant-bridal",
   "metadata": {},
   "outputs": [],
   "source": [
    "quartil1 = float (np.percentile(dados,25))\n",
    "quartil3 = float (np.percentile(dados,75))\n",
    "amplitude_interquartilica = quartil3 - quartil1\n",
    "print('%.2f'%amplitude_interquartilica )"
   ]
  },
  {
   "cell_type": "markdown",
   "id": "liked-necessity",
   "metadata": {},
   "source": [
    "1.8 A distribuição é simétrica?"
   ]
  },
  {
   "cell_type": "code",
   "execution_count": null,
   "id": "active-nebraska",
   "metadata": {},
   "outputs": [],
   "source": [
    "##Distribuição simetrica\n",
    "sns.distplot(dados)"
   ]
  },
  {
   "cell_type": "markdown",
   "id": "fourth-recipient",
   "metadata": {},
   "source": [
    "2.Se uma distribuição tem dois picos, o maior deles é a moda? o que você faria se encontrasse uma distribuição com dois picos?"
   ]
  },
  {
   "cell_type": "code",
   "execution_count": null,
   "id": "planned-peace",
   "metadata": {},
   "outputs": [],
   "source": [
    "## a moda é o ponto central de cada pico, porem quando temos dois picos é por que tem duas bases de dados diferentes, tento buscar medidas que caracterizem os dados."
   ]
  },
  {
   "cell_type": "markdown",
   "id": "municipal-russia",
   "metadata": {},
   "source": [
    "3.Seguem-se quatro conjuntos de mensurações em (mm)."
   ]
  },
  {
   "cell_type": "code",
   "execution_count": null,
   "id": "cordless-internet",
   "metadata": {},
   "outputs": [],
   "source": [
    "conjuntosteste = ([103.2,107.1, 106.5, 106.6,105.9, 106.4, 106.4, 106.7,\n",
    "                  105.8,105.9, 106.5, 106.3, 106.1, 106.5, 106.3, 106.9,\n",
    "                  105.9, 106.2,105.8,106.4])\n",
    "print(conjuntosteste[])"
   ]
  },
  {
   "cell_type": "markdown",
   "id": "intimate-democrat",
   "metadata": {},
   "source": [
    "3.1 Calcule a média de cada conjunto"
   ]
  },
  {
   "cell_type": "code",
   "execution_count": null,
   "id": "portable-montgomery",
   "metadata": {},
   "outputs": [],
   "source": [
    "conjunto1 = conjuntosteste[:4]\n",
    "conjunto2 = conjuntosteste[4:8] \n",
    "conjunto3 = conjuntosteste[8:12]\n",
    "conjunto4 = conjuntosteste[12:16]\n",
    "conjunto5 = conjuntosteste[16:20]\n",
    "print(conjunto1)\n",
    "print(conjunto2)\n",
    "print(conjunto3)\n",
    "print(conjunto4)\n",
    "print(conjunto5)"
   ]
  },
  {
   "cell_type": "code",
   "execution_count": null,
   "id": "strategic-manhattan",
   "metadata": {},
   "outputs": [],
   "source": [
    "media1 = np.mean(conjunto1)\n",
    "print('%.2f'%media1)\n",
    "media2 = np.mean(conjunto2)\n",
    "print('%.2f'%media2)\n",
    "media3 = np.mean(conjunto3)\n",
    "print('%.2f'%media3)\n",
    "media4 = np.mean(conjunto4)\n",
    "print('%2.f'%media4)\n",
    "media5 = np.mean(conjunto5)\n",
    "print('%.2f'%media5)\n",
    "media_grupal_soma = media1 + media2 + media3 + media4 + media5\n",
    "print(\"%.2f\"%media_grupal_soma)\n",
    "media_grupal = (media1, media2, media3, media4, media5)\n",
    "print(media_grupal)"
   ]
  },
  {
   "cell_type": "markdown",
   "id": "french-nylon",
   "metadata": {},
   "source": [
    "3.2 Calcule a média de todas as 20 observações."
   ]
  },
  {
   "cell_type": "code",
   "execution_count": null,
   "id": "sharp-somalia",
   "metadata": {},
   "outputs": [],
   "source": [
    "media_total = np.mean(conjuntosteste)\n",
    "print('%.2f'%media_total)"
   ]
  },
  {
   "cell_type": "markdown",
   "id": "fifth-attack",
   "metadata": {},
   "source": [
    "3.3 Calcule a média das quatro médias grupais.Como esta se compara com a média ja calculada anteriomente"
   ]
  },
  {
   "cell_type": "code",
   "execution_count": null,
   "id": "outer-filing",
   "metadata": {},
   "outputs": [],
   "source": [
    "mm = np.mean(media_grupal)\n",
    "print(\"%.2f\"%mm) ## mesma media das 20 observacoes da questão 3"
   ]
  },
  {
   "cell_type": "markdown",
   "id": "interstate-sunday",
   "metadata": {},
   "source": [
    " 4. A média(em geral) pode ser zero? Pode ser negativa? Explique."
   ]
  },
  {
   "cell_type": "code",
   "execution_count": null,
   "id": "sublime-america",
   "metadata": {},
   "outputs": [],
   "source": [
    "## ## sim pode ser negativa se os valores dados forem negativos "
   ]
  },
  {
   "cell_type": "markdown",
   "id": "focused-central",
   "metadata": {},
   "source": [
    "5. A mediana (em geral) pode ser zero? Pode ser negativa? Explique."
   ]
  },
  {
   "cell_type": "code",
   "execution_count": 1,
   "id": "rural-constant",
   "metadata": {},
   "outputs": [],
   "source": [
    "## ## sim, se dados valores negativos ela vai mostrar o valor do meio o valor de 50% então ela pode ser tanto negativa quanto positiva"
   ]
  },
  {
   "cell_type": "markdown",
   "id": "liable-edition",
   "metadata": {},
   "source": [
    "6.Quando a mediana é melhor do que a média par acaracterizar um determinado grupo de medidas?"
   ]
  },
  {
   "cell_type": "code",
   "execution_count": null,
   "id": "orange-cycling",
   "metadata": {},
   "outputs": [],
   "source": [
    "## usamos a mediana para retonarnar o valor central dos dados. se tivermos valores numeros discrepantes é melhor usar a mediana "
   ]
  },
  {
   "cell_type": "markdown",
   "id": "yellow-miller",
   "metadata": {},
   "source": [
    "7. Calcule o desvio-padrão"
   ]
  },
  {
   "cell_type": "code",
   "execution_count": null,
   "id": "agreed-accuracy",
   "metadata": {},
   "outputs": [],
   "source": [
    "n1 = ([5,6,4,2,7])\n",
    "dv1 = np.std(n1)\n",
    "print('%.2f'%dv1)"
   ]
  },
  {
   "cell_type": "code",
   "execution_count": null,
   "id": "unlike-latitude",
   "metadata": {},
   "outputs": [],
   "source": [
    "n2 = ([105,106,104,102,107])\n",
    "dv2 = np.std(n2)\n",
    "print('%.2f'%dv2)"
   ]
  },
  {
   "cell_type": "code",
   "execution_count": null,
   "id": "elegant-swedish",
   "metadata": {},
   "outputs": [],
   "source": [
    "n3 = ([1050,1060,1040,1020,1070])\n",
    "dv3 = np.std(n3)\n",
    "print('%.2f'%dv3)"
   ]
  },
  {
   "cell_type": "code",
   "execution_count": null,
   "id": "formal-potato",
   "metadata": {},
   "outputs": [],
   "source": [
    "n4 = ([0.05,0.06,0.04,0.02,0.07])\n",
    "dv4 = np.std(n4)\n",
    "print('%.2f'%dv4)"
   ]
  },
  {
   "cell_type": "markdown",
   "id": "immediate-knitting",
   "metadata": {},
   "source": [
    "8. O desvio-Padrão (em geral) pode ser zero? Pode ser negativo? Explique."
   ]
  },
  {
   "cell_type": "code",
   "execution_count": 2,
   "id": "expensive-jamaica",
   "metadata": {},
   "outputs": [],
   "source": [
    "## desvio-padrão só pode assumir valores positivos, por ser a raiz quadrada postiva da variança. "
   ]
  },
  {
   "cell_type": "markdown",
   "id": "strange-forum",
   "metadata": {},
   "source": [
    "9. Por que um gerente necessitaria (gostaria de) conhecer a variabilidade das vendas diarias dos produtos sob sua responsabilidade gerencial?"
   ]
  },
  {
   "cell_type": "code",
   "execution_count": null,
   "id": "middle-mumbai",
   "metadata": {},
   "outputs": [],
   "source": [
    "## a variancia e uma variedade que sempre sera positiva ou nula. será nula quando todas as observações forem iguais entre si,\n",
    "## ou seja, quando não houver variabilidade nos dados. variaveis proximas de zero serão quase sem variação. os gerendes podem,\n",
    "## usar esses dados para ver os meses que mais vende e tentar levantar um padrão patra melhorar os outros meses mais fracos."
   ]
  },
  {
   "cell_type": "markdown",
   "id": "standard-delight",
   "metadata": {},
   "source": [
    "10. Para uma facção interessada no 'grosso' do mercado de roupas masculinas, não interesada no mercado dos muito pequenos\n",
    "    nem dos muitos grandes(em altura), que medidas descritivas de alturas da população ela mais precisaria conhecer?"
   ]
  },
  {
   "cell_type": "code",
   "execution_count": null,
   "id": "clear-debut",
   "metadata": {},
   "outputs": [],
   "source": [
    "## moda - media"
   ]
  },
  {
   "cell_type": "markdown",
   "id": "great-roberts",
   "metadata": {},
   "source": [
    "11. Escolha um banco de dados qualquer em que você estaja interessado."
   ]
  },
  {
   "cell_type": "markdown",
   "id": "scenic-alarm",
   "metadata": {},
   "source": [
    "11.1 - Escolha duas variaveis categoricas e faça um resumo estatístico de cada uma delas."
   ]
  },
  {
   "cell_type": "code",
   "execution_count": 9,
   "id": "threatened-metallic",
   "metadata": {
    "scrolled": true
   },
   "outputs": [
    {
     "data": {
      "text/html": [
       "<div>\n",
       "<style scoped>\n",
       "    .dataframe tbody tr th:only-of-type {\n",
       "        vertical-align: middle;\n",
       "    }\n",
       "\n",
       "    .dataframe tbody tr th {\n",
       "        vertical-align: top;\n",
       "    }\n",
       "\n",
       "    .dataframe thead th {\n",
       "        text-align: right;\n",
       "    }\n",
       "</style>\n",
       "<table border=\"1\" class=\"dataframe\">\n",
       "  <thead>\n",
       "    <tr style=\"text-align: right;\">\n",
       "      <th></th>\n",
       "      <th>Rank</th>\n",
       "      <th>Name</th>\n",
       "      <th>Platform</th>\n",
       "      <th>Year</th>\n",
       "      <th>Genre</th>\n",
       "      <th>Publisher</th>\n",
       "      <th>NA_Sales</th>\n",
       "      <th>EU_Sales</th>\n",
       "      <th>JP_Sales</th>\n",
       "      <th>Other_Sales</th>\n",
       "      <th>Global_Sales</th>\n",
       "    </tr>\n",
       "  </thead>\n",
       "  <tbody>\n",
       "    <tr>\n",
       "      <th>0</th>\n",
       "      <td>1</td>\n",
       "      <td>Wii Sports</td>\n",
       "      <td>Wii</td>\n",
       "      <td>2006.0</td>\n",
       "      <td>Sports</td>\n",
       "      <td>Nintendo</td>\n",
       "      <td>41.49</td>\n",
       "      <td>29.02</td>\n",
       "      <td>3.77</td>\n",
       "      <td>8.46</td>\n",
       "      <td>82.74</td>\n",
       "    </tr>\n",
       "    <tr>\n",
       "      <th>1</th>\n",
       "      <td>2</td>\n",
       "      <td>Super Mario Bros.</td>\n",
       "      <td>NES</td>\n",
       "      <td>1985.0</td>\n",
       "      <td>Platform</td>\n",
       "      <td>Nintendo</td>\n",
       "      <td>29.08</td>\n",
       "      <td>3.58</td>\n",
       "      <td>6.81</td>\n",
       "      <td>0.77</td>\n",
       "      <td>40.24</td>\n",
       "    </tr>\n",
       "    <tr>\n",
       "      <th>2</th>\n",
       "      <td>3</td>\n",
       "      <td>Mario Kart Wii</td>\n",
       "      <td>Wii</td>\n",
       "      <td>2008.0</td>\n",
       "      <td>Racing</td>\n",
       "      <td>Nintendo</td>\n",
       "      <td>15.85</td>\n",
       "      <td>12.88</td>\n",
       "      <td>3.79</td>\n",
       "      <td>3.31</td>\n",
       "      <td>35.82</td>\n",
       "    </tr>\n",
       "    <tr>\n",
       "      <th>3</th>\n",
       "      <td>4</td>\n",
       "      <td>Wii Sports Resort</td>\n",
       "      <td>Wii</td>\n",
       "      <td>2009.0</td>\n",
       "      <td>Sports</td>\n",
       "      <td>Nintendo</td>\n",
       "      <td>15.75</td>\n",
       "      <td>11.01</td>\n",
       "      <td>3.28</td>\n",
       "      <td>2.96</td>\n",
       "      <td>33.00</td>\n",
       "    </tr>\n",
       "    <tr>\n",
       "      <th>4</th>\n",
       "      <td>5</td>\n",
       "      <td>Pokemon Red/Pokemon Blue</td>\n",
       "      <td>GB</td>\n",
       "      <td>1996.0</td>\n",
       "      <td>Role-Playing</td>\n",
       "      <td>Nintendo</td>\n",
       "      <td>11.27</td>\n",
       "      <td>8.89</td>\n",
       "      <td>10.22</td>\n",
       "      <td>1.00</td>\n",
       "      <td>31.37</td>\n",
       "    </tr>\n",
       "  </tbody>\n",
       "</table>\n",
       "</div>"
      ],
      "text/plain": [
       "   Rank                      Name Platform    Year         Genre Publisher  \\\n",
       "0     1                Wii Sports      Wii  2006.0        Sports  Nintendo   \n",
       "1     2         Super Mario Bros.      NES  1985.0      Platform  Nintendo   \n",
       "2     3            Mario Kart Wii      Wii  2008.0        Racing  Nintendo   \n",
       "3     4         Wii Sports Resort      Wii  2009.0        Sports  Nintendo   \n",
       "4     5  Pokemon Red/Pokemon Blue       GB  1996.0  Role-Playing  Nintendo   \n",
       "\n",
       "   NA_Sales  EU_Sales  JP_Sales  Other_Sales  Global_Sales  \n",
       "0     41.49     29.02      3.77         8.46         82.74  \n",
       "1     29.08      3.58      6.81         0.77         40.24  \n",
       "2     15.85     12.88      3.79         3.31         35.82  \n",
       "3     15.75     11.01      3.28         2.96         33.00  \n",
       "4     11.27      8.89     10.22         1.00         31.37  "
      ]
     },
     "execution_count": 9,
     "metadata": {},
     "output_type": "execute_result"
    }
   ],
   "source": [
    "dados_jogos = pd.read_csv('/Users/joaob/OneDrive/Documentos/dados/vgsales.csv')\n",
    "dados_jogos.head()"
   ]
  },
  {
   "cell_type": "code",
   "execution_count": 10,
   "id": "defined-sector",
   "metadata": {},
   "outputs": [
    {
     "data": {
      "text/plain": [
       "count    16598.000000\n",
       "mean         0.537441\n",
       "std          1.555028\n",
       "min          0.010000\n",
       "25%          0.060000\n",
       "50%          0.170000\n",
       "75%          0.470000\n",
       "max         82.740000\n",
       "Name: Global_Sales, dtype: float64"
      ]
     },
     "execution_count": 10,
     "metadata": {},
     "output_type": "execute_result"
    }
   ],
   "source": [
    "dados_jogos['Global_Sales'].describe()"
   ]
  },
  {
   "cell_type": "code",
   "execution_count": 15,
   "id": "exposed-marble",
   "metadata": {
    "scrolled": true
   },
   "outputs": [],
   "source": [
    "obj = ('Nintendo', 'ctivision', 'Capcom', 'Ubisoft', 'Microsoft Game Studios')\n",
    "valores = [len(dados_jogos.loc[dados_jogos['Publisher'] == obj[0]]),\n",
    "           len(dados_jogos.loc[dados_jogos['Publisher'] == obj[1]]),\n",
    "           len(dados_jogos.loc[dados_jogos['Publisher'] == obj[2]]),\n",
    "           len(dados_jogos.loc[dados_jogos['Publisher'] == obj[3]]),\n",
    "           len(dados_jogos.loc[dados_jogos['Publisher'] == obj[4]])]"
   ]
  },
  {
   "cell_type": "code",
   "execution_count": 16,
   "id": "acceptable-expression",
   "metadata": {},
   "outputs": [
    {
     "data": {
      "image/png": "[encoded data removed]",
      "text/plain": [
       "<Figure size 432x288 with 1 Axes>"
      ]
     },
     "metadata": {},
     "output_type": "display_data"
    }
   ],
   "source": [
    "colors=['blue', 'red', 'yellow', 'green', 'pink']\n",
    "plt.pie(valores, labels=obj, colors=colors, autopct='%1.f%%', shadow=True, startangle=0)\n",
    "plt.show()"
   ]
  },
  {
   "cell_type": "markdown",
   "id": "pending-productivity",
   "metadata": {},
   "source": [
    "11.2 - Escolha duas variaveis ordinais e faça um resumo estatístico de cada uma delas."
   ]
  },
  {
   "cell_type": "code",
   "execution_count": 2,
   "id": "restricted-diagnosis",
   "metadata": {},
   "outputs": [
    {
     "data": {
      "text/html": [
       "<div>\n",
       "<style scoped>\n",
       "    .dataframe tbody tr th:only-of-type {\n",
       "        vertical-align: middle;\n",
       "    }\n",
       "\n",
       "    .dataframe tbody tr th {\n",
       "        vertical-align: top;\n",
       "    }\n",
       "\n",
       "    .dataframe thead th {\n",
       "        text-align: right;\n",
       "    }\n",
       "</style>\n",
       "<table border=\"1\" class=\"dataframe\">\n",
       "  <thead>\n",
       "    <tr style=\"text-align: right;\">\n",
       "      <th></th>\n",
       "      <th>userId</th>\n",
       "      <th>movieId</th>\n",
       "      <th>rating</th>\n",
       "      <th>timestamp</th>\n",
       "    </tr>\n",
       "  </thead>\n",
       "  <tbody>\n",
       "    <tr>\n",
       "      <th>0</th>\n",
       "      <td>1</td>\n",
       "      <td>1</td>\n",
       "      <td>4.0</td>\n",
       "      <td>964982703</td>\n",
       "    </tr>\n",
       "    <tr>\n",
       "      <th>1</th>\n",
       "      <td>1</td>\n",
       "      <td>3</td>\n",
       "      <td>4.0</td>\n",
       "      <td>964981247</td>\n",
       "    </tr>\n",
       "    <tr>\n",
       "      <th>2</th>\n",
       "      <td>1</td>\n",
       "      <td>6</td>\n",
       "      <td>4.0</td>\n",
       "      <td>964982224</td>\n",
       "    </tr>\n",
       "    <tr>\n",
       "      <th>3</th>\n",
       "      <td>1</td>\n",
       "      <td>47</td>\n",
       "      <td>5.0</td>\n",
       "      <td>964983815</td>\n",
       "    </tr>\n",
       "    <tr>\n",
       "      <th>4</th>\n",
       "      <td>1</td>\n",
       "      <td>50</td>\n",
       "      <td>5.0</td>\n",
       "      <td>964982931</td>\n",
       "    </tr>\n",
       "  </tbody>\n",
       "</table>\n",
       "</div>"
      ],
      "text/plain": [
       "   userId  movieId  rating  timestamp\n",
       "0       1        1     4.0  964982703\n",
       "1       1        3     4.0  964981247\n",
       "2       1        6     4.0  964982224\n",
       "3       1       47     5.0  964983815\n",
       "4       1       50     5.0  964982931"
      ]
     },
     "execution_count": 2,
     "metadata": {},
     "output_type": "execute_result"
    }
   ],
   "source": [
    "notas_filmes = pd.read_csv('https://raw.githubusercontent.com/alura-cursos/formacao-data-science/master/ratings.csv')\n",
    "notas_filmes.head()"
   ]
  },
  {
   "cell_type": "code",
   "execution_count": 13,
   "id": "expected-salmon",
   "metadata": {},
   "outputs": [],
   "source": [
    "notas_filmes.columns = ['usuarioId', 'filmeId', 'notas', 'momento']\n"
   ]
  },
  {
   "cell_type": "code",
   "execution_count": 15,
   "id": "numerical-stevens",
   "metadata": {},
   "outputs": [
    {
     "data": {
      "text/plain": [
       "array([4. , 5. , 3. , 2. , 1. , 4.5, 3.5, 2.5, 0.5, 1.5])"
      ]
     },
     "execution_count": 15,
     "metadata": {},
     "output_type": "execute_result"
    }
   ],
   "source": [
    "notas_filmes['notas'].unique() ## valores maximos e minimos "
   ]
  },
  {
   "cell_type": "code",
   "execution_count": 16,
   "id": "fuzzy-whole",
   "metadata": {
    "scrolled": true
   },
   "outputs": [
    {
     "data": {
      "text/plain": [
       "3.501556983616962"
      ]
     },
     "execution_count": 16,
     "metadata": {},
     "output_type": "execute_result"
    }
   ],
   "source": [
    "notas_filmes['notas'].mean() ## valor da media"
   ]
  },
  {
   "cell_type": "code",
   "execution_count": 17,
   "id": "introductory-wages",
   "metadata": {
    "scrolled": true
   },
   "outputs": [
    {
     "data": {
      "text/plain": [
       "0    4.0\n",
       "dtype: float64"
      ]
     },
     "execution_count": 17,
     "metadata": {},
     "output_type": "execute_result"
    }
   ],
   "source": [
    "notas_filmes['notas'].mode() ## valor de moda"
   ]
  },
  {
   "cell_type": "code",
   "execution_count": 18,
   "id": "developing-gardening",
   "metadata": {},
   "outputs": [],
   "source": [
    "x = notas_filmes['filmeId'].unique()"
   ]
  },
  {
   "cell_type": "code",
   "execution_count": 26,
   "id": "bright-cycle",
   "metadata": {},
   "outputs": [
    {
     "data": {
      "text/plain": [
       "array([     1,      3,      6, ..., 160836, 163937, 163981], dtype=int64)"
      ]
     },
     "execution_count": 26,
     "metadata": {},
     "output_type": "execute_result"
    }
   ],
   "source": [
    "x"
   ]
  },
  {
   "cell_type": "markdown",
   "id": "religious-bench",
   "metadata": {},
   "source": [
    "11.3 - Escolha duas variaveis intervalares e faça um resumo de cada uma delas."
   ]
  },
  {
   "cell_type": "code",
   "execution_count": null,
   "id": "later-palestinian",
   "metadata": {},
   "outputs": [],
   "source": []
  },
  {
   "cell_type": "code",
   "execution_count": null,
   "id": "instant-victorian",
   "metadata": {},
   "outputs": [],
   "source": []
  },
  {
   "cell_type": "markdown",
   "id": "sharp-editor",
   "metadata": {},
   "source": [
    "11.4 - Há algum outlier entre os dados analisados? Em caso afirmativo, corrija a situação e refaça os resumos estatisticos. Qual é a correção proposta? "
   ]
  },
  {
   "cell_type": "code",
   "execution_count": 21,
   "id": "lined-authority",
   "metadata": {},
   "outputs": [
    {
     "data": {
      "text/plain": [
       "{'whiskers': [<matplotlib.lines.Line2D at 0x1d3e22a1f40>,\n",
       "  <matplotlib.lines.Line2D at 0x1d3e22b02e0>],\n",
       " 'caps': [<matplotlib.lines.Line2D at 0x1d3e22b0640>,\n",
       "  <matplotlib.lines.Line2D at 0x1d3e22b09a0>],\n",
       " 'boxes': [<matplotlib.lines.Line2D at 0x1d3e22a1be0>],\n",
       " 'medians': [<matplotlib.lines.Line2D at 0x1d3e22b0d00>],\n",
       " 'fliers': [<matplotlib.lines.Line2D at 0x1d3e22bc0a0>],\n",
       " 'means': []}"
      ]
     },
     "execution_count": 21,
     "metadata": {},
     "output_type": "execute_result"
    },
    {
     "data": {
      "image/png": "[encoded data removed]",
      "text/plain": [
       "<Figure size 432x288 with 1 Axes>"
      ]
     },
     "metadata": {
      "needs_background": "light"
     },
     "output_type": "display_data"
    }
   ],
   "source": [
    "plt.boxplot(notas_filmes['usuarioId'])"
   ]
  },
  {
   "cell_type": "code",
   "execution_count": 22,
   "id": "deluxe-divide",
   "metadata": {},
   "outputs": [
    {
     "data": {
      "text/plain": [
       "{'whiskers': [<matplotlib.lines.Line2D at 0x1d3e2308ee0>,\n",
       "  <matplotlib.lines.Line2D at 0x1d3e2316280>],\n",
       " 'caps': [<matplotlib.lines.Line2D at 0x1d3e23165e0>,\n",
       "  <matplotlib.lines.Line2D at 0x1d3e2316940>],\n",
       " 'boxes': [<matplotlib.lines.Line2D at 0x1d3e2308b80>],\n",
       " 'medians': [<matplotlib.lines.Line2D at 0x1d3e2316ca0>],\n",
       " 'fliers': [<matplotlib.lines.Line2D at 0x1d3e2321040>],\n",
       " 'means': []}"
      ]
     },
     "execution_count": 22,
     "metadata": {},
     "output_type": "execute_result"
    },
    {
     "data": {
      "image/png": "[encoded data removed]",
      "text/plain": [
       "<Figure size 432x288 with 1 Axes>"
      ]
     },
     "metadata": {
      "needs_background": "light"
     },
     "output_type": "display_data"
    }
   ],
   "source": [
    "plt.boxplot(notas_filmes['filmeId']) ## coluna filmeid tem outliers acima da media"
   ]
  },
  {
   "cell_type": "code",
   "execution_count": 23,
   "id": "relevant-colony",
   "metadata": {},
   "outputs": [
    {
     "data": {
      "text/plain": [
       "{'whiskers': [<matplotlib.lines.Line2D at 0x1d3e23745e0>,\n",
       "  <matplotlib.lines.Line2D at 0x1d3e2374940>],\n",
       " 'caps': [<matplotlib.lines.Line2D at 0x1d3e2374ca0>,\n",
       "  <matplotlib.lines.Line2D at 0x1d3e2381040>],\n",
       " 'boxes': [<matplotlib.lines.Line2D at 0x1d3e2374280>],\n",
       " 'medians': [<matplotlib.lines.Line2D at 0x1d3e23813a0>],\n",
       " 'fliers': [<matplotlib.lines.Line2D at 0x1d3e2381700>],\n",
       " 'means': []}"
      ]
     },
     "execution_count": 23,
     "metadata": {},
     "output_type": "execute_result"
    },
    {
     "data": {
      "image/png": "[encoded data removed]",
      "text/plain": [
       "<Figure size 432x288 with 1 Axes>"
      ]
     },
     "metadata": {
      "needs_background": "light"
     },
     "output_type": "display_data"
    }
   ],
   "source": [
    "plt.boxplot(notas_filmes['notas']) ## tem outliers abaixo da media"
   ]
  },
  {
   "cell_type": "code",
   "execution_count": 25,
   "id": "earned-candle",
   "metadata": {},
   "outputs": [
    {
     "data": {
      "text/plain": [
       "{'whiskers': [<matplotlib.lines.Line2D at 0x1d3e23cf640>,\n",
       "  <matplotlib.lines.Line2D at 0x1d3e23cf9a0>],\n",
       " 'caps': [<matplotlib.lines.Line2D at 0x1d3e23cfd00>,\n",
       "  <matplotlib.lines.Line2D at 0x1d3e23dc0a0>],\n",
       " 'boxes': [<matplotlib.lines.Line2D at 0x1d3e23cf2e0>],\n",
       " 'medians': [<matplotlib.lines.Line2D at 0x1d3e23dc400>],\n",
       " 'fliers': [<matplotlib.lines.Line2D at 0x1d3e23dc760>],\n",
       " 'means': []}"
      ]
     },
     "execution_count": 25,
     "metadata": {},
     "output_type": "execute_result"
    },
    {
     "data": {
      "image/png": "[encoded data removed]",
      "text/plain": [
       "<Figure size 432x288 with 1 Axes>"
      ]
     },
     "metadata": {
      "needs_background": "light"
     },
     "output_type": "display_data"
    }
   ],
   "source": [
    "plt.boxplot(notas_filmes['momento'])"
   ]
  }
 ],
 "metadata": {
  "kernelspec": {
   "display_name": "Python 3",
   "language": "python",
   "name": "python3"
  },
  "language_info": {
   "codemirror_mode": {
    "name": "ipython",
    "version": 3
   },
   "file_extension": ".py",
   "mimetype": "text/x-python",
   "name": "python",
   "nbconvert_exporter": "python",
   "pygments_lexer": "ipython3",
   "version": "3.9.1"
  }
 },
 "nbformat": 4,
 "nbformat_minor": 5
}
